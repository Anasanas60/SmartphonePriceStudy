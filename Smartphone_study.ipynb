{
  "nbformat": 4,
  "nbformat_minor": 0,
  "metadata": {
    "colab": {
      "provenance": []
    },
    "kernelspec": {
      "name": "python3",
      "display_name": "Python 3"
    },
    "language_info": {
      "name": "python"
    }
  },
  "cells": [
    {
      "cell_type": "markdown",
      "source": [
        "Load the dataset from the upload\n",
        "\n"
      ],
      "metadata": {
        "id": "nxj1kR0Ku4SX"
      }
    },
    {
      "cell_type": "code",
      "execution_count": 2,
      "metadata": {
        "colab": {
          "base_uri": "https://localhost:8080/"
        },
        "id": "db6VZnp3nOhv",
        "outputId": "9df079d9-fbd1-4065-ab88-bd7db27d7cc8"
      },
      "outputs": [
        {
          "output_type": "stream",
          "name": "stdout",
          "text": [
            "✅ Dataset loaded successfully!\n"
          ]
        }
      ],
      "source": [
        "import pandas as pd\n",
        "\n",
        "\n",
        "df = pd.read_csv('BDSMARTS.csv')\n",
        "\n",
        "print(\"✅ Dataset loaded successfully!\")"
      ]
    },
    {
      "cell_type": "markdown",
      "source": [
        "Data Info (first 5 rows,summary,stat for overall data)"
      ],
      "metadata": {
        "id": "j1D2aQ84vJ6Z"
      }
    },
    {
      "cell_type": "code",
      "source": [
        "\n",
        "print(\"--- First 5 Rows ---\")\n",
        "print(df.head())\n",
        "\n",
        "print(\"\\n--- Dataset Info ---\")\n",
        "df.info()\n",
        "\n",
        "print(\"\\n--- Numerical Stats ---\")\n",
        "print(df.describe())"
      ],
      "metadata": {
        "colab": {
          "base_uri": "https://localhost:8080/"
        },
        "id": "n1Xr6YG1n3FT",
        "outputId": "9ac3db31-8b2d-4add-b9b6-85707ed0f7ad"
      },
      "execution_count": 3,
      "outputs": [
        {
          "output_type": "stream",
          "name": "stdout",
          "text": [
            "--- First 5 Rows ---\n",
            "     Brand Released Year          OS Display (inches) Display (pixels) Camera  \\\n",
            "0   Doogee          2020  Android 10             6.3\"        1080x2340  2.1MP   \n",
            "1  Ulefone          2021  Android 11            6.52\"        1080x2400   20MP   \n",
            "2  Oukitel          2023  Android 13            6.58\"        1080x2408   48MP   \n",
            "3  Oukitel          2023  Android 13            6.58\"        1080x2408   48MP   \n",
            "4      ZTE          2023  Android 13            12.1\"        1600x2560   13MP   \n",
            "\n",
            "   Camera Resolution   RAM Battery Capacity       Price  \n",
            "0               1080   6GB         10000mAh  ৳18,000.00  \n",
            "1               2160   4GB         10000mAh  ৳16,000.00  \n",
            "2               2160  16GB         10000mAh  ৳35,000.00  \n",
            "3               2160   8GB         10000mAh  ৳35,000.00  \n",
            "4               1080  16GB         10000mAh  ৳60,000.00  \n",
            "\n",
            "--- Dataset Info ---\n",
            "<class 'pandas.core.frame.DataFrame'>\n",
            "RangeIndex: 3338 entries, 0 to 3337\n",
            "Data columns (total 10 columns):\n",
            " #   Column             Non-Null Count  Dtype \n",
            "---  ------             --------------  ----- \n",
            " 0   Brand              3338 non-null   object\n",
            " 1   Released Year      3338 non-null   object\n",
            " 2   OS                 3338 non-null   object\n",
            " 3   Display (inches)   3338 non-null   object\n",
            " 4   Display (pixels)   3338 non-null   object\n",
            " 5   Camera             3337 non-null   object\n",
            " 6   Camera Resolution  3338 non-null   int64 \n",
            " 7   RAM                3338 non-null   object\n",
            " 8   Battery Capacity   3338 non-null   object\n",
            " 9   Price              3338 non-null   object\n",
            "dtypes: int64(1), object(9)\n",
            "memory usage: 260.9+ KB\n",
            "\n",
            "--- Numerical Stats ---\n",
            "       Camera Resolution\n",
            "count        3338.000000\n",
            "mean         1619.820252\n",
            "std           813.461932\n",
            "min           480.000000\n",
            "25%          1080.000000\n",
            "50%          1080.000000\n",
            "75%          2160.000000\n",
            "max          4320.000000\n"
          ]
        }
      ]
    },
    {
      "cell_type": "code",
      "source": [
        "\n",
        "\n",
        "# Print the shape of the data BEFORE cleaning\n",
        "print(f\"Shape before dropping missing value: {df.shape}\")\n",
        "\n",
        "# Drop any row that has a missing value\n",
        "df.dropna(inplace=True)\n",
        "\n",
        "# Print the shape of the data AFTER cleaning\n",
        "print(f\"Shape after dropping missing value: {df.shape}\")\n",
        "\n",
        "# Verify with .info() again. You will see all columns now have the same count.\n",
        "print(\"\\n--- Cleaned Data Info (No Missing Values) ---\")\n",
        "df.info()"
      ],
      "metadata": {
        "colab": {
          "base_uri": "https://localhost:8080/"
        },
        "id": "qnb-ZB5Ho-3M",
        "outputId": "97e2fc01-6e0b-42df-a6a7-e59b734b3ffd"
      },
      "execution_count": 5,
      "outputs": [
        {
          "output_type": "stream",
          "name": "stdout",
          "text": [
            "Shape before dropping missing value: (3337, 10)\n",
            "Shape after dropping missing value: (3337, 10)\n",
            "\n",
            "--- Cleaned Data Info (No Missing Values) ---\n",
            "<class 'pandas.core.frame.DataFrame'>\n",
            "Index: 3337 entries, 0 to 3337\n",
            "Data columns (total 10 columns):\n",
            " #   Column             Non-Null Count  Dtype \n",
            "---  ------             --------------  ----- \n",
            " 0   Brand              3337 non-null   object\n",
            " 1   Released Year      3337 non-null   object\n",
            " 2   OS                 3337 non-null   object\n",
            " 3   Display (inches)   3337 non-null   object\n",
            " 4   Display (pixels)   3337 non-null   object\n",
            " 5   Camera             3337 non-null   object\n",
            " 6   Camera Resolution  3337 non-null   int64 \n",
            " 7   RAM                3337 non-null   object\n",
            " 8   Battery Capacity   3337 non-null   object\n",
            " 9   Price              3337 non-null   object\n",
            "dtypes: int64(1), object(9)\n",
            "memory usage: 286.8+ KB\n"
          ]
        }
      ]
    },
    {
      "cell_type": "code",
      "source": [
        "\n",
        "\n",
        "# Function to safely clean and convert a column to numeric\n",
        "def clean_and_convert_numeric(df, column, char_to_remove, new_dtype):\n",
        "    # Check if the column is still an object type before attempting string operations\n",
        "    if df[column].dtype == 'object':\n",
        "        # Remove specified characters\n",
        "        df[column] = df[column].astype(str).str.replace(char_to_remove, '', regex=False)\n",
        "        # Convert to the specified numeric type, coercing errors to NaN\n",
        "        df[column] = pd.to_numeric(df[column], errors='coerce')\n",
        "    else:\n",
        "        print(f\"Column '{column}' is already of type {df[column].dtype}. Skipping cleaning.\")\n",
        "    return df\n",
        "\n",
        "# Clean the Price column\n",
        "df = clean_and_convert_numeric(df, 'Price', '৳', float)\n",
        "df = clean_and_convert_numeric(df, 'Price', ',', float) # Handle the comma separately\n",
        "\n",
        "print(\"Cleaned 'Price' column. First 5 values:\")\n",
        "print(df['Price'].head())\n",
        "\n",
        "\n",
        "# Clean the RAM column\n",
        "df = clean_and_convert_numeric(df, 'RAM', 'GB', int)\n",
        "\n",
        "print(\"\\nCleaned 'RAM' column. First 5 values:\")\n",
        "print(df['RAM'].head())\n",
        "\n",
        "\n",
        "# Step 3.2.3: Clean the Battery Capacity column\n",
        "df = clean_and_convert_numeric(df, 'Battery Capacity', 'mAh', int)\n",
        "\n",
        "print(\"\\nCleaned 'Battery Capacity' column. First 5 values:\")\n",
        "print(df['Battery Capacity'].head())\n",
        "\n",
        "\n",
        "# Clean the Display (inches) column\n",
        "# Remove the inch symbol (\")\n",
        "# Note: Sometimes you need to escape special characters with a backslash, but let's try without first.\n",
        "df = clean_and_convert_numeric(df, 'Display (inches)', '\"', float)\n",
        "\n",
        "print(\"\\nCleaned 'Display (inches)' column. First 5 values:\")\n",
        "print(df['Display (inches)'].head())\n",
        "\n",
        "\n",
        "# Clean the Released Year column\n",
        "# Just in case there are hidden spaces or errors, we convert it directly\n",
        "# No characters to remove, just convert to numeric\n",
        "if df['Released Year'].dtype == 'object':\n",
        "     df['Released Year'] = pd.to_numeric(df['Released Year'], errors='coerce')\n",
        "else:\n",
        "    print(f\"Column 'Released Year' is already of type {df['Released Year'].dtype}. Skipping cleaning.\")\n",
        "\n",
        "\n",
        "print(\"\\nCleaned 'Released Year' column. First 5 values:\")\n",
        "print(df['Released Year'].head())"
      ],
      "metadata": {
        "colab": {
          "base_uri": "https://localhost:8080/"
        },
        "id": "jI2XV7ihpago",
        "outputId": "c9783f07-0a7a-4e93-8742-d8d27fa6a8c6"
      },
      "execution_count": 11,
      "outputs": [
        {
          "output_type": "stream",
          "name": "stdout",
          "text": [
            "Column 'Price' is already of type float64. Skipping cleaning.\n",
            "Column 'Price' is already of type float64. Skipping cleaning.\n",
            "Cleaned 'Price' column. First 5 values:\n",
            "0    18000.0\n",
            "1    16000.0\n",
            "2    35000.0\n",
            "3    35000.0\n",
            "4    60000.0\n",
            "Name: Price, dtype: float64\n",
            "Column 'RAM' is already of type float64. Skipping cleaning.\n",
            "\n",
            "Cleaned 'RAM' column. First 5 values:\n",
            "0     6.0\n",
            "1     4.0\n",
            "2    16.0\n",
            "3     8.0\n",
            "4    16.0\n",
            "Name: RAM, dtype: float64\n",
            "Column 'Battery Capacity' is already of type int64. Skipping cleaning.\n",
            "\n",
            "Cleaned 'Battery Capacity' column. First 5 values:\n",
            "0    10000\n",
            "1    10000\n",
            "2    10000\n",
            "3    10000\n",
            "4    10000\n",
            "Name: Battery Capacity, dtype: int64\n",
            "\n",
            "Cleaned 'Display (inches)' column. First 5 values:\n",
            "0     6.30\n",
            "1     6.52\n",
            "2     6.58\n",
            "3     6.58\n",
            "4    12.10\n",
            "Name: Display (inches), dtype: float64\n",
            "\n",
            "Cleaned 'Released Year' column. First 5 values:\n",
            "0    2020.0\n",
            "1    2021.0\n",
            "2    2023.0\n",
            "3    2023.0\n",
            "4    2023.0\n",
            "Name: Released Year, dtype: float64\n"
          ]
        }
      ]
    },
    {
      "cell_type": "code",
      "source": [
        "\n",
        "print(\"\\n--- Data Info After Cleaning ---\")\n",
        "df.info()"
      ],
      "metadata": {
        "colab": {
          "base_uri": "https://localhost:8080/"
        },
        "id": "XXrdI8mjpqUG",
        "outputId": "4be0a7c4-294e-4a8e-e278-a6a90d3d4c5c"
      },
      "execution_count": 12,
      "outputs": [
        {
          "output_type": "stream",
          "name": "stdout",
          "text": [
            "\n",
            "--- Data Info After Cleaning ---\n",
            "<class 'pandas.core.frame.DataFrame'>\n",
            "Index: 3337 entries, 0 to 3337\n",
            "Data columns (total 10 columns):\n",
            " #   Column             Non-Null Count  Dtype  \n",
            "---  ------             --------------  -----  \n",
            " 0   Brand              3337 non-null   object \n",
            " 1   Released Year      3310 non-null   float64\n",
            " 2   OS                 3337 non-null   object \n",
            " 3   Display (inches)   3311 non-null   float64\n",
            " 4   Display (pixels)   3337 non-null   object \n",
            " 5   Camera             3337 non-null   object \n",
            " 6   Camera Resolution  3337 non-null   int64  \n",
            " 7   RAM                3337 non-null   float64\n",
            " 8   Battery Capacity   3337 non-null   int64  \n",
            " 9   Price              3337 non-null   float64\n",
            "dtypes: float64(4), int64(2), object(4)\n",
            "memory usage: 286.8+ KB\n"
          ]
        }
      ]
    },
    {
      "cell_type": "code",
      "source": [
        "# One-Hot Encoding\n",
        "\n",
        "print(f\"Original shape of the data: {df.shape}\")\n",
        "\n",
        "# Use pd.get_dummies() to create new columns for 'Brand' and 'OS'\n",
        "# We set drop_first=True to avoid a statistical issue called multicollinearity\n",
        "df = pd.get_dummies(df, columns=['Brand', 'OS'], drop_first=True)\n",
        "\n",
        "print(f\"New shape of the data after One-Hot Encoding: {df.shape}\")\n",
        "\n",
        "# Let's see our new columns!\n",
        "print(\"\\n--- First 5 rows of the new DataFrame ---\")\n",
        "pd.set_option('display.max_columns', None) #\n",
        "print(df.head())"
      ],
      "metadata": {
        "colab": {
          "base_uri": "https://localhost:8080/"
        },
        "id": "DZXgm8aGrQeR",
        "outputId": "7241fcdc-474d-4e85-edae-b18cdcaa93ae"
      },
      "execution_count": 13,
      "outputs": [
        {
          "output_type": "stream",
          "name": "stdout",
          "text": [
            "Original shape of the data: (3337, 10)\n",
            "New shape of the data after One-Hot Encoding: (3337, 141)\n",
            "\n",
            "--- First 5 rows of the new DataFrame ---\n",
            "   Released Year  Display (inches) Display (pixels) Camera  Camera Resolution  \\\n",
            "0         2020.0              6.30        1080x2340  2.1MP               1080   \n",
            "1         2021.0              6.52        1080x2400   20MP               2160   \n",
            "2         2023.0              6.58        1080x2408   48MP               2160   \n",
            "3         2023.0              6.58        1080x2408   48MP               2160   \n",
            "4         2023.0             12.10        1600x2560   13MP               1080   \n",
            "\n",
            "    RAM  Battery Capacity    Price  Brand_Alcatel  Brand_Allview  Brand_Apple  \\\n",
            "0   6.0             10000  18000.0          False          False        False   \n",
            "1   4.0             10000  16000.0          False          False        False   \n",
            "2  16.0             10000  35000.0          False          False        False   \n",
            "3   8.0             10000  35000.0          False          False        False   \n",
            "4  16.0             10000  60000.0          False          False        False   \n",
            "\n",
            "   Brand_Archos  Brand_Asus  Brand_BLU  Brand_BQ  Brand_Benco  \\\n",
            "0         False       False      False     False        False   \n",
            "1         False       False      False     False        False   \n",
            "2         False       False      False     False        False   \n",
            "3         False       False      False     False        False   \n",
            "4         False       False      False     False        False   \n",
            "\n",
            "   Brand_BlackBerry  Brand_Blackview  Brand_Carbon Mobile  Brand_Cat  \\\n",
            "0             False            False                False      False   \n",
            "1             False            False                False      False   \n",
            "2             False            False                False      False   \n",
            "3             False            False                False      False   \n",
            "4             False            False                False      False   \n",
            "\n",
            "   Brand_Celkon  Brand_Coolpad  Brand_Cubot  Brand_Doogee  Brand_Energizer  \\\n",
            "0         False          False        False          True            False   \n",
            "1         False          False        False         False            False   \n",
            "2         False          False        False         False            False   \n",
            "3         False          False        False         False            False   \n",
            "4         False          False        False         False            False   \n",
            "\n",
            "   Brand_Fairphone  Brand_Gigabyte  Brand_Gionee  Brand_Google  Brand_HMD  \\\n",
            "0            False           False         False         False      False   \n",
            "1            False           False         False         False      False   \n",
            "2            False           False         False         False      False   \n",
            "3            False           False         False         False      False   \n",
            "4            False           False         False         False      False   \n",
            "\n",
            "   Brand_HTC  Brand_Haier  Brand_Honor  Brand_Huawei  Brand_Infinix  \\\n",
            "0      False        False        False         False          False   \n",
            "1      False        False        False         False          False   \n",
            "2      False        False        False         False          False   \n",
            "3      False        False        False         False          False   \n",
            "4      False        False        False         False          False   \n",
            "\n",
            "   Brand_Intex  Brand_Itel  Brand_Karbonn  Brand_Kyocera  Brand_LG  \\\n",
            "0        False       False          False          False     False   \n",
            "1        False       False          False          False     False   \n",
            "2        False       False          False          False     False   \n",
            "3        False       False          False          False     False   \n",
            "4        False       False          False          False     False   \n",
            "\n",
            "   Brand_Lava  Brand_LeEco  Brand_Leica  Brand_Lenovo  Brand_Maximus  \\\n",
            "0       False        False        False         False          False   \n",
            "1       False        False        False         False          False   \n",
            "2       False        False        False         False          False   \n",
            "3       False        False        False         False          False   \n",
            "4       False        False        False         False          False   \n",
            "\n",
            "   Brand_Maxwest  Brand_Meizu  Brand_Micromax  Brand_Microsoft  \\\n",
            "0          False        False           False            False   \n",
            "1          False        False           False            False   \n",
            "2          False        False           False            False   \n",
            "3          False        False           False            False   \n",
            "4          False        False           False            False   \n",
            "\n",
            "   Brand_Motorola  Brand_Nokia  Brand_Nothing  Brand_OnePlus  Brand_Oppo  \\\n",
            "0           False        False          False          False       False   \n",
            "1           False        False          False          False       False   \n",
            "2           False        False          False          False       False   \n",
            "3           False        False          False          False       False   \n",
            "4           False        False          False          False       False   \n",
            "\n",
            "   Brand_Orange  Brand_Oukitel  Brand_Panasonic  Brand_Philips  Brand_Plum  \\\n",
            "0         False          False            False          False       False   \n",
            "1         False          False            False          False       False   \n",
            "2         False           True            False          False       False   \n",
            "3         False           True            False          False       False   \n",
            "4         False          False            False          False       False   \n",
            "\n",
            "   Brand_QMobile  Brand_Razer  Brand_Realme  Brand_Samsung  Brand_Sharp  \\\n",
            "0          False        False         False          False        False   \n",
            "1          False        False         False          False        False   \n",
            "2          False        False         False          False        False   \n",
            "3          False        False         False          False        False   \n",
            "4          False        False         False          False        False   \n",
            "\n",
            "   Brand_Sony  Brand_Symphony  Brand_T-Mobile  Brand_TCL  Brand_Tecno  \\\n",
            "0       False           False           False      False        False   \n",
            "1       False           False           False      False        False   \n",
            "2       False           False           False      False        False   \n",
            "3       False           False           False      False        False   \n",
            "4       False           False           False      False        False   \n",
            "\n",
            "   Brand_Ulefone  Brand_UmiDigi  Brand_VeryKool  Brand_Vivo  Brand_Vodafone  \\\n",
            "0          False          False           False       False           False   \n",
            "1           True          False           False       False           False   \n",
            "2          False          False           False       False           False   \n",
            "3          False          False           False       False           False   \n",
            "4          False          False           False       False           False   \n",
            "\n",
            "   Brand_WE  Brand_Walton  Brand_Wiko  Brand_Xiaomi  Brand_Xolo  Brand_YU  \\\n",
            "0     False         False       False         False       False     False   \n",
            "1     False         False       False         False       False     False   \n",
            "2     False         False       False         False       False     False   \n",
            "3     False         False       False         False       False     False   \n",
            "4     False         False       False         False       False     False   \n",
            "\n",
            "   Brand_Yezz  Brand_Yota  Brand_ZTE  OS_Android 10  OS_Android 10.0  \\\n",
            "0       False       False      False           True            False   \n",
            "1       False       False      False          False            False   \n",
            "2       False       False      False          False            False   \n",
            "3       False       False      False          False            False   \n",
            "4       False       False       True          False            False   \n",
            "\n",
            "   OS_Android 11  OS_Android 12  OS_Android 13  OS_Android 13   OS_Android 14  \\\n",
            "0          False          False          False           False          False   \n",
            "1           True          False          False           False          False   \n",
            "2          False          False           True           False          False   \n",
            "3          False          False           True           False          False   \n",
            "4          False          False           True           False          False   \n",
            "\n",
            "   OS_Android 4.4  OS_Android 4.4.2  OS_Android 4.4.4  OS_Android 5.0.2  \\\n",
            "0           False             False             False             False   \n",
            "1           False             False             False             False   \n",
            "2           False             False             False             False   \n",
            "3           False             False             False             False   \n",
            "4           False             False             False             False   \n",
            "\n",
            "   OS_Android 5.1  OS_Android 5.1   OS_Android 5.1.1  OS_Android 6  \\\n",
            "0           False            False             False         False   \n",
            "1           False            False             False         False   \n",
            "2           False            False             False         False   \n",
            "3           False            False             False         False   \n",
            "4           False            False             False         False   \n",
            "\n",
            "   OS_Android 6.0  OS_Android 6.0.1  OS_Android 6.1  OS_Android 7  \\\n",
            "0           False             False           False         False   \n",
            "1           False             False           False         False   \n",
            "2           False             False           False         False   \n",
            "3           False             False           False         False   \n",
            "4           False             False           False         False   \n",
            "\n",
            "   OS_Android 7.0  OS_Android 7.0   OS_Android 7.0.1  OS_Android 7.1  \\\n",
            "0           False            False             False           False   \n",
            "1           False            False             False           False   \n",
            "2           False            False             False           False   \n",
            "3           False            False             False           False   \n",
            "4           False            False             False           False   \n",
            "\n",
            "   OS_Android 7.1.1  OS_Android 7.1.2  OS_Android 7.x  OS_Android 8  \\\n",
            "0             False             False           False         False   \n",
            "1             False             False           False         False   \n",
            "2             False             False           False         False   \n",
            "3             False             False           False         False   \n",
            "4             False             False           False         False   \n",
            "\n",
            "   OS_Android 8.0  OS_Android 8.0   OS_Android 8.1  OS_Android 8.1   \\\n",
            "0           False            False           False            False   \n",
            "1           False            False           False            False   \n",
            "2           False            False           False            False   \n",
            "3           False            False           False            False   \n",
            "4           False            False           False            False   \n",
            "\n",
            "   OS_Android 8.1.0  OS_Android 9  OS_Android 9   OS_Android 9.0  \\\n",
            "0             False         False          False           False   \n",
            "1             False         False          False           False   \n",
            "2             False         False          False           False   \n",
            "3             False         False          False           False   \n",
            "4             False         False          False           False   \n",
            "\n",
            "   OS_Android 9.0   OS_HarmonyOS  OS_HarmonyOS 2.0  OS_HarmonyOS 3.0  \\\n",
            "0            False         False             False             False   \n",
            "1            False         False             False             False   \n",
            "2            False         False             False             False   \n",
            "3            False         False             False             False   \n",
            "4            False         False             False             False   \n",
            "\n",
            "   OS_HarmonyOS 3.1  OS_HarmonyOS 4.0  OS_HarmonyOS 4.2  OS_iOS 10.0.1  \\\n",
            "0             False             False             False          False   \n",
            "1             False             False             False          False   \n",
            "2             False             False             False          False   \n",
            "3             False             False             False          False   \n",
            "4             False             False             False          False   \n",
            "\n",
            "   OS_iOS 11  OS_iOS 11.1.1  OS_iOS 12  OS_iOS 13  OS_iOS 13.4  OS_iOS 14  \\\n",
            "0      False          False      False      False        False      False   \n",
            "1      False          False      False      False        False      False   \n",
            "2      False          False      False      False        False      False   \n",
            "3      False          False      False      False        False      False   \n",
            "4      False          False      False      False        False      False   \n",
            "\n",
            "   OS_iOS 14.1  OS_iOS 15  OS_iOS 16  OS_iOS 17  OS_iOS 6  OS_iOS 7  OS_iOS 8  \\\n",
            "0        False      False      False      False     False     False     False   \n",
            "1        False      False      False      False     False     False     False   \n",
            "2        False      False      False      False     False     False     False   \n",
            "3        False      False      False      False     False     False     False   \n",
            "4        False      False      False      False     False     False     False   \n",
            "\n",
            "   OS_iOS 9  OS_iOS 9.3.2  \n",
            "0     False         False  \n",
            "1     False         False  \n",
            "2     False         False  \n",
            "3     False         False  \n",
            "4     False         False  \n"
          ]
        }
      ]
    },
    {
      "cell_type": "code",
      "source": [
        "#Drop remaining complex columns\n",
        "df.drop(['Display (pixels)', 'Camera'], axis=1, inplace=True)\n",
        "print(\"\\n--- Final DataFrame Info ---\")\n",
        "df.info()\n"
      ],
      "metadata": {
        "colab": {
          "base_uri": "https://localhost:8080/"
        },
        "id": "sxp2UbMyrsCN",
        "outputId": "5c8a4f65-b870-411d-a545-90c95b484f2a"
      },
      "execution_count": 14,
      "outputs": [
        {
          "output_type": "stream",
          "name": "stdout",
          "text": [
            "\n",
            "--- Final DataFrame Info ---\n",
            "<class 'pandas.core.frame.DataFrame'>\n",
            "Index: 3337 entries, 0 to 3337\n",
            "Columns: 139 entries, Released Year to OS_iOS 9.3.2\n",
            "dtypes: bool(133), float64(4), int64(2)\n",
            "memory usage: 615.9 KB\n"
          ]
        }
      ]
    },
    {
      "cell_type": "code",
      "source": [
        "# Define Features and Target\n",
        "\n",
        "# The 'Price' column is what we want to predict\n",
        "y = df['Price']\n",
        "\n",
        "# All other columns are the features our model will use\n",
        "X = df.drop('Price', axis=1)\n",
        "\n",
        "print(\"--- Features (X) ---\")\n",
        "print(X.columns) # Let's see all our new feature columns!\n",
        "print(f\"\\nShape of X: {X.shape}\")\n",
        "\n",
        "print(\"\\n--- Target (y) ---\")\n",
        "print(y.head())"
      ],
      "metadata": {
        "colab": {
          "base_uri": "https://localhost:8080/"
        },
        "id": "UG2zvcowsLKZ",
        "outputId": "da7784d1-e41a-42ac-ae36-42fd31cf2df0"
      },
      "execution_count": 16,
      "outputs": [
        {
          "output_type": "stream",
          "name": "stdout",
          "text": [
            "--- Features (X) ---\n",
            "Index(['Released Year', 'Display (inches)', 'Camera Resolution', 'RAM',\n",
            "       'Battery Capacity', 'Brand_Alcatel', 'Brand_Allview', 'Brand_Apple',\n",
            "       'Brand_Archos', 'Brand_Asus',\n",
            "       ...\n",
            "       'OS_iOS 14', 'OS_iOS 14.1', 'OS_iOS 15', 'OS_iOS 16', 'OS_iOS 17',\n",
            "       'OS_iOS 6', 'OS_iOS 7', 'OS_iOS 8', 'OS_iOS 9', 'OS_iOS 9.3.2'],\n",
            "      dtype='object', length=138)\n",
            "\n",
            "Shape of X: (3337, 138)\n",
            "\n",
            "--- Target (y) ---\n",
            "0    18000.0\n",
            "1    16000.0\n",
            "2    35000.0\n",
            "3    35000.0\n",
            "4    60000.0\n",
            "Name: Price, dtype: float64\n"
          ]
        }
      ]
    },
    {
      "cell_type": "code",
      "source": [
        "# Select and Train the Model\n",
        "from sklearn.model_selection import train_test_split\n",
        "from sklearn.linear_model import LinearRegression\n",
        "\n",
        "# Split the data into training (80%) and testing (20%) sets\n",
        "# The data (X and y) was already cleaned of NaNs in a previous step (cell 459aa287)\n",
        "X_train, X_test, y_train, y_test = train_test_split(X, y, test_size=0.2, random_state=42)\n",
        "\n",
        "# Create the Linear Regression model blueprint\n",
        "lr_model = LinearRegression()\n",
        "\n",
        "# Train the model using the training data\n",
        "lr_model.fit(X_train, y_train)\n",
        "\n",
        "print(\"\\n✅ Model has been trained successfully!\")"
      ],
      "metadata": {
        "colab": {
          "base_uri": "https://localhost:8080/"
        },
        "id": "NmxT8yp3sLOD",
        "outputId": "518e21f2-abae-40bb-bbbf-233b3015de1d"
      },
      "execution_count": 25,
      "outputs": [
        {
          "output_type": "stream",
          "name": "stdout",
          "text": [
            "\n",
            "✅ Model has been trained successfully!\n"
          ]
        }
      ]
    },
    {
      "cell_type": "code",
      "source": [
        "# Evaluate the Model ---\n",
        "from sklearn.metrics import mean_absolute_error, r2_score\n",
        "\n",
        "# Make predictions on the test data (the data the model has never seen)\n",
        "y_pred = lr_model.predict(X_test)\n",
        "\n",
        "# Calculate the evaluation metrics\n",
        "mae = mean_absolute_error(y_test, y_pred)\n",
        "r2 = r2_score(y_test, y_pred)\n",
        "\n",
        "print(\"\\n================= MODEL EVALUATION =================\")\n",
        "print(f\"Mean Absolute Error (MAE): {mae:.2f} BDT\")\n",
        "print(f\"This means, on average, our model's price prediction is off by ~{int(mae)} Taka.\")\n",
        "print(f\"\\nR-squared (R²): {r2:.2f}\")\n",
        "print(f\"This means our model can explain about {r2:.0%} of the variation in smartphone prices.\")\n",
        "print(\"==================================================\")\n",
        "\n",
        "# Let's look at a few actual predictions vs. real prices\n",
        "comparison_df = pd.DataFrame({'Actual Price': y_test, 'Predicted Price': y_pred})\n",
        "print(\"\\n--- Sample of Predictions vs. Actual Prices ---\")\n",
        "print(comparison_df.head(10))"
      ],
      "metadata": {
        "colab": {
          "base_uri": "https://localhost:8080/"
        },
        "id": "OalnPPe2uCqE",
        "outputId": "4c84fed7-edda-4645-fa5e-b6b5b22cbe1b"
      },
      "execution_count": 26,
      "outputs": [
        {
          "output_type": "stream",
          "name": "stdout",
          "text": [
            "\n",
            "================= MODEL EVALUATION =================\n",
            "Mean Absolute Error (MAE): 12705.10 BDT\n",
            "This means, on average, our model's price prediction is off by ~12705 Taka.\n",
            "\n",
            "R-squared (R²): 0.61\n",
            "This means our model can explain about 61% of the variation in smartphone prices.\n",
            "==================================================\n",
            "\n",
            "--- Sample of Predictions vs. Actual Prices ---\n",
            "      Actual Price  Predicted Price\n",
            "2252       35000.0     37592.028630\n",
            "1105       38000.0     60363.448397\n",
            "1688       22000.0     31141.014266\n",
            "1684       42000.0     57098.039529\n",
            "1481       11990.0     11111.635721\n",
            "1641       26990.0     30071.730016\n",
            "883        38990.0     45604.183880\n",
            "247        15000.0     39826.904825\n",
            "2622       20000.0     31955.887148\n",
            "2712        8590.0     10542.116664\n"
          ]
        }
      ]
    }
  ]
}